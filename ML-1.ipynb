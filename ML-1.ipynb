{
 "cells": [
  {
   "cell_type": "code",
   "execution_count": 29,
   "id": "d78d04d8",
   "metadata": {},
   "outputs": [],
   "source": [
    "import numpy as np\n",
    "import pandas as pd\n",
    "import matplotlib.pyplot as plt\n",
    "from sklearn import linear_model"
   ]
  },
  {
   "cell_type": "markdown",
   "id": "ad739d5c",
   "metadata": {},
   "source": [
    "# linear regression Single variable."
   ]
  },
  {
   "cell_type": "code",
   "execution_count": 30,
   "id": "99fe1870",
   "metadata": {},
   "outputs": [],
   "source": [
    "data = pd.read_csv(r\"C:\\Users\\DELL\\Desktop\\ML Youtube\\House prices.csv\")"
   ]
  },
  {
   "cell_type": "code",
   "execution_count": 31,
   "id": "4682184e",
   "metadata": {},
   "outputs": [
    {
     "data": {
      "text/html": [
       "<div>\n",
       "<style scoped>\n",
       "    .dataframe tbody tr th:only-of-type {\n",
       "        vertical-align: middle;\n",
       "    }\n",
       "\n",
       "    .dataframe tbody tr th {\n",
       "        vertical-align: top;\n",
       "    }\n",
       "\n",
       "    .dataframe thead th {\n",
       "        text-align: right;\n",
       "    }\n",
       "</style>\n",
       "<table border=\"1\" class=\"dataframe\">\n",
       "  <thead>\n",
       "    <tr style=\"text-align: right;\">\n",
       "      <th></th>\n",
       "      <th>Area</th>\n",
       "      <th>Price</th>\n",
       "    </tr>\n",
       "  </thead>\n",
       "  <tbody>\n",
       "    <tr>\n",
       "      <th>0</th>\n",
       "      <td>2600</td>\n",
       "      <td>550000</td>\n",
       "    </tr>\n",
       "    <tr>\n",
       "      <th>1</th>\n",
       "      <td>3000</td>\n",
       "      <td>565000</td>\n",
       "    </tr>\n",
       "    <tr>\n",
       "      <th>2</th>\n",
       "      <td>3200</td>\n",
       "      <td>610000</td>\n",
       "    </tr>\n",
       "    <tr>\n",
       "      <th>3</th>\n",
       "      <td>3600</td>\n",
       "      <td>680000</td>\n",
       "    </tr>\n",
       "    <tr>\n",
       "      <th>4</th>\n",
       "      <td>4000</td>\n",
       "      <td>725000</td>\n",
       "    </tr>\n",
       "  </tbody>\n",
       "</table>\n",
       "</div>"
      ],
      "text/plain": [
       "   Area   Price\n",
       "0  2600  550000\n",
       "1  3000  565000\n",
       "2  3200  610000\n",
       "3  3600  680000\n",
       "4  4000  725000"
      ]
     },
     "execution_count": 31,
     "metadata": {},
     "output_type": "execute_result"
    }
   ],
   "source": [
    "data"
   ]
  },
  {
   "cell_type": "markdown",
   "id": "380276ef",
   "metadata": {},
   "source": [
    "# Plotting the data with scatter plot."
   ]
  },
  {
   "cell_type": "code",
   "execution_count": 32,
   "id": "7cffc9ea",
   "metadata": {},
   "outputs": [
    {
     "data": {
      "text/plain": [
       "Text(0, 0.5, 'Price in US$')"
      ]
     },
     "execution_count": 32,
     "metadata": {},
     "output_type": "execute_result"
    },
    {
     "data": {
      "image/png": "[encoded data removed]",
      "text/plain": [
       "<Figure size 432x288 with 1 Axes>"
      ]
     },
     "metadata": {
      "needs_background": "light"
     },
     "output_type": "display_data"
    }
   ],
   "source": [
    "plt.scatter(data.Area , data.Price , color = \"red\" , marker = \"+\")\n",
    "plt.xlabel(\"Area in sq.ft\")\n",
    "plt.ylabel(\"Price in US$\")"
   ]
  },
  {
   "cell_type": "markdown",
   "id": "c4c90f24",
   "metadata": {},
   "source": [
    "# Plotting Linear regression"
   ]
  },
  {
   "cell_type": "code",
   "execution_count": 83,
   "id": "2e93f7f7",
   "metadata": {},
   "outputs": [
    {
     "data": {
      "text/plain": [
       "[<matplotlib.lines.Line2D at 0x18274f95fd0>]"
      ]
     },
     "execution_count": 83,
     "metadata": {},
     "output_type": "execute_result"
    },
    {
     "data": {
      "image/png": "[encoded data removed]",
      "text/plain": [
       "<Figure size 432x288 with 1 Axes>"
      ]
     },
     "metadata": {
      "needs_background": "light"
     },
     "output_type": "display_data"
    }
   ],
   "source": [
    "plt.scatter(data.Area , data.Price , color = \"red\" , marker = \"+\")\n",
    "plt.xlabel(\"Area in sq.ft\")\n",
    "plt.ylabel(\"Price in US$\")\n",
    "plt.plot(data.Area , reg.predict(data[[\"Area\"]]) , color = \"blue\")"
   ]
  },
  {
   "cell_type": "markdown",
   "id": "d00d9b9b",
   "metadata": {},
   "source": [
    "# Creating linear regression object"
   ]
  },
  {
   "cell_type": "code",
   "execution_count": 33,
   "id": "ef8656e6",
   "metadata": {},
   "outputs": [],
   "source": [
    "reg = linear_model.LinearRegression()"
   ]
  },
  {
   "cell_type": "markdown",
   "id": "d6394456",
   "metadata": {},
   "source": [
    "# Fitting the data (Traing the linear regeression model for the available data points)."
   ]
  },
  {
   "cell_type": "code",
   "execution_count": 34,
   "id": "92910cea",
   "metadata": {},
   "outputs": [
    {
     "data": {
      "text/plain": [
       "LinearRegression()"
      ]
     },
     "execution_count": 34,
     "metadata": {},
     "output_type": "execute_result"
    }
   ],
   "source": [
    "reg.fit(data[[\"Area\"]] , data.Price)"
   ]
  },
  {
   "cell_type": "markdown",
   "id": "b1c2194c",
   "metadata": {},
   "source": [
    "# Predicting the price for 3300 sq.ft"
   ]
  },
  {
   "cell_type": "code",
   "execution_count": 35,
   "id": "5aab906e",
   "metadata": {},
   "outputs": [
    {
     "data": {
      "text/plain": [
       "array([628715.75342466])"
      ]
     },
     "execution_count": 35,
     "metadata": {},
     "output_type": "execute_result"
    }
   ],
   "source": [
    "reg.predict([[3300]])"
   ]
  },
  {
   "cell_type": "markdown",
   "id": "1d5b5bd3",
   "metadata": {},
   "source": [
    "# predicting the price for 5000 sq.ft"
   ]
  },
  {
   "cell_type": "code",
   "execution_count": 36,
   "id": "ac39f9df",
   "metadata": {},
   "outputs": [
    {
     "data": {
      "text/plain": [
       "array([859554.79452055])"
      ]
     },
     "execution_count": 36,
     "metadata": {},
     "output_type": "execute_result"
    }
   ],
   "source": [
    "reg.predict([[5000]])"
   ]
  },
  {
   "cell_type": "markdown",
   "id": "1a90fbed",
   "metadata": {},
   "source": [
    "# Linear regression formula"
   ]
  },
  {
   "cell_type": "markdown",
   "id": "3cbc90c3",
   "metadata": {},
   "source": [
    "# f(x) = wx+b"
   ]
  },
  {
   "cell_type": "code",
   "execution_count": 37,
   "id": "995a61aa",
   "metadata": {},
   "outputs": [],
   "source": [
    "# w  is the slope or gradient.\n",
    "# b is the y intercept."
   ]
  },
  {
   "cell_type": "markdown",
   "id": "c91e10fc",
   "metadata": {},
   "source": [
    "# Coefficient - coefficient is nothing but slope or gradient (\"w\")"
   ]
  },
  {
   "cell_type": "code",
   "execution_count": 38,
   "id": "9bf3c80b",
   "metadata": {},
   "outputs": [
    {
     "data": {
      "text/plain": [
       "array([135.78767123])"
      ]
     },
     "execution_count": 38,
     "metadata": {},
     "output_type": "execute_result"
    }
   ],
   "source": [
    "reg.coef_"
   ]
  },
  {
   "cell_type": "markdown",
   "id": "0edc5498",
   "metadata": {},
   "source": [
    "# Intercept - Intercept is the y intercept"
   ]
  },
  {
   "cell_type": "code",
   "execution_count": 39,
   "id": "3ead1f43",
   "metadata": {},
   "outputs": [
    {
     "data": {
      "text/plain": [
       "180616.43835616432"
      ]
     },
     "execution_count": 39,
     "metadata": {},
     "output_type": "execute_result"
    }
   ],
   "source": [
    "reg.intercept_"
   ]
  },
  {
   "cell_type": "markdown",
   "id": "fc33ad32",
   "metadata": {},
   "source": [
    "# so caluculating the prediction price with the help of formula.(wx+b)"
   ]
  },
  {
   "cell_type": "code",
   "execution_count": 40,
   "id": "cce2a29f",
   "metadata": {},
   "outputs": [
    {
     "data": {
      "text/plain": [
       "628715.7534151643"
      ]
     },
     "execution_count": 40,
     "metadata": {},
     "output_type": "execute_result"
    }
   ],
   "source": [
    "(135.78767123*3300)+180616.43835616432"
   ]
  },
  {
   "cell_type": "markdown",
   "id": "94c40422",
   "metadata": {},
   "source": [
    "# predicting the prices of different areas."
   ]
  },
  {
   "cell_type": "code",
   "execution_count": 75,
   "id": "de7a94d1",
   "metadata": {},
   "outputs": [],
   "source": [
    "data_Areas = pd.read_csv(r\"C:\\Users\\DELL\\Desktop\\ML Youtube\\Areas.csv\")"
   ]
  },
  {
   "cell_type": "code",
   "execution_count": 76,
   "id": "1a475695",
   "metadata": {},
   "outputs": [
    {
     "data": {
      "text/html": [
       "<div>\n",
       "<style scoped>\n",
       "    .dataframe tbody tr th:only-of-type {\n",
       "        vertical-align: middle;\n",
       "    }\n",
       "\n",
       "    .dataframe tbody tr th {\n",
       "        vertical-align: top;\n",
       "    }\n",
       "\n",
       "    .dataframe thead th {\n",
       "        text-align: right;\n",
       "    }\n",
       "</style>\n",
       "<table border=\"1\" class=\"dataframe\">\n",
       "  <thead>\n",
       "    <tr style=\"text-align: right;\">\n",
       "      <th></th>\n",
       "      <th>Areas</th>\n",
       "    </tr>\n",
       "  </thead>\n",
       "  <tbody>\n",
       "    <tr>\n",
       "      <th>0</th>\n",
       "      <td>1200</td>\n",
       "    </tr>\n",
       "    <tr>\n",
       "      <th>1</th>\n",
       "      <td>1500</td>\n",
       "    </tr>\n",
       "    <tr>\n",
       "      <th>2</th>\n",
       "      <td>2650</td>\n",
       "    </tr>\n",
       "    <tr>\n",
       "      <th>3</th>\n",
       "      <td>2235</td>\n",
       "    </tr>\n",
       "    <tr>\n",
       "      <th>4</th>\n",
       "      <td>5785</td>\n",
       "    </tr>\n",
       "    <tr>\n",
       "      <th>5</th>\n",
       "      <td>6754</td>\n",
       "    </tr>\n",
       "    <tr>\n",
       "      <th>6</th>\n",
       "      <td>8750</td>\n",
       "    </tr>\n",
       "    <tr>\n",
       "      <th>7</th>\n",
       "      <td>3575</td>\n",
       "    </tr>\n",
       "    <tr>\n",
       "      <th>8</th>\n",
       "      <td>3455</td>\n",
       "    </tr>\n",
       "    <tr>\n",
       "      <th>9</th>\n",
       "      <td>2475</td>\n",
       "    </tr>\n",
       "    <tr>\n",
       "      <th>10</th>\n",
       "      <td>9500</td>\n",
       "    </tr>\n",
       "    <tr>\n",
       "      <th>11</th>\n",
       "      <td>6755</td>\n",
       "    </tr>\n",
       "    <tr>\n",
       "      <th>12</th>\n",
       "      <td>4350</td>\n",
       "    </tr>\n",
       "    <tr>\n",
       "      <th>13</th>\n",
       "      <td>3230</td>\n",
       "    </tr>\n",
       "    <tr>\n",
       "      <th>14</th>\n",
       "      <td>1900</td>\n",
       "    </tr>\n",
       "    <tr>\n",
       "      <th>15</th>\n",
       "      <td>1730</td>\n",
       "    </tr>\n",
       "  </tbody>\n",
       "</table>\n",
       "</div>"
      ],
      "text/plain": [
       "    Areas\n",
       "0    1200\n",
       "1    1500\n",
       "2    2650\n",
       "3    2235\n",
       "4    5785\n",
       "5    6754\n",
       "6    8750\n",
       "7    3575\n",
       "8    3455\n",
       "9    2475\n",
       "10   9500\n",
       "11   6755\n",
       "12   4350\n",
       "13   3230\n",
       "14   1900\n",
       "15   1730"
      ]
     },
     "execution_count": 76,
     "metadata": {},
     "output_type": "execute_result"
    }
   ],
   "source": [
    "data_Areas"
   ]
  },
  {
   "cell_type": "code",
   "execution_count": 77,
   "id": "5e238e57",
   "metadata": {},
   "outputs": [
    {
     "data": {
      "text/plain": [
       "array([ 343561.64383562,  384297.94520548,  540453.76712329,\n",
       "        484101.88356164,  966148.11643836, 1097726.36986301,\n",
       "       1368758.56164384,  666057.3630137 ,  649762.84246575,\n",
       "        516690.92465753, 1470599.31506849, 1097862.15753425,\n",
       "        771292.80821918,  619210.61643836,  438613.01369863,\n",
       "        415529.10958904])"
      ]
     },
     "execution_count": 77,
     "metadata": {},
     "output_type": "execute_result"
    }
   ],
   "source": [
    "reg.predict(data_Areas)"
   ]
  },
  {
   "cell_type": "code",
   "execution_count": 78,
   "id": "737a9b8b",
   "metadata": {},
   "outputs": [],
   "source": [
    "prices = reg.predict(data_Areas)"
   ]
  },
  {
   "cell_type": "code",
   "execution_count": 79,
   "id": "67b7c16a",
   "metadata": {},
   "outputs": [],
   "source": [
    "data_Areas[\"ALL_Prices\"] = data_Areas"
   ]
  },
  {
   "cell_type": "code",
   "execution_count": 80,
   "id": "8c978522",
   "metadata": {},
   "outputs": [
    {
     "data": {
      "text/html": [
       "<div>\n",
       "<style scoped>\n",
       "    .dataframe tbody tr th:only-of-type {\n",
       "        vertical-align: middle;\n",
       "    }\n",
       "\n",
       "    .dataframe tbody tr th {\n",
       "        vertical-align: top;\n",
       "    }\n",
       "\n",
       "    .dataframe thead th {\n",
       "        text-align: right;\n",
       "    }\n",
       "</style>\n",
       "<table border=\"1\" class=\"dataframe\">\n",
       "  <thead>\n",
       "    <tr style=\"text-align: right;\">\n",
       "      <th></th>\n",
       "      <th>Areas</th>\n",
       "      <th>ALL_Prices</th>\n",
       "    </tr>\n",
       "  </thead>\n",
       "  <tbody>\n",
       "    <tr>\n",
       "      <th>0</th>\n",
       "      <td>1200</td>\n",
       "      <td>1200</td>\n",
       "    </tr>\n",
       "    <tr>\n",
       "      <th>1</th>\n",
       "      <td>1500</td>\n",
       "      <td>1500</td>\n",
       "    </tr>\n",
       "    <tr>\n",
       "      <th>2</th>\n",
       "      <td>2650</td>\n",
       "      <td>2650</td>\n",
       "    </tr>\n",
       "    <tr>\n",
       "      <th>3</th>\n",
       "      <td>2235</td>\n",
       "      <td>2235</td>\n",
       "    </tr>\n",
       "    <tr>\n",
       "      <th>4</th>\n",
       "      <td>5785</td>\n",
       "      <td>5785</td>\n",
       "    </tr>\n",
       "    <tr>\n",
       "      <th>5</th>\n",
       "      <td>6754</td>\n",
       "      <td>6754</td>\n",
       "    </tr>\n",
       "    <tr>\n",
       "      <th>6</th>\n",
       "      <td>8750</td>\n",
       "      <td>8750</td>\n",
       "    </tr>\n",
       "    <tr>\n",
       "      <th>7</th>\n",
       "      <td>3575</td>\n",
       "      <td>3575</td>\n",
       "    </tr>\n",
       "    <tr>\n",
       "      <th>8</th>\n",
       "      <td>3455</td>\n",
       "      <td>3455</td>\n",
       "    </tr>\n",
       "    <tr>\n",
       "      <th>9</th>\n",
       "      <td>2475</td>\n",
       "      <td>2475</td>\n",
       "    </tr>\n",
       "    <tr>\n",
       "      <th>10</th>\n",
       "      <td>9500</td>\n",
       "      <td>9500</td>\n",
       "    </tr>\n",
       "    <tr>\n",
       "      <th>11</th>\n",
       "      <td>6755</td>\n",
       "      <td>6755</td>\n",
       "    </tr>\n",
       "    <tr>\n",
       "      <th>12</th>\n",
       "      <td>4350</td>\n",
       "      <td>4350</td>\n",
       "    </tr>\n",
       "    <tr>\n",
       "      <th>13</th>\n",
       "      <td>3230</td>\n",
       "      <td>3230</td>\n",
       "    </tr>\n",
       "    <tr>\n",
       "      <th>14</th>\n",
       "      <td>1900</td>\n",
       "      <td>1900</td>\n",
       "    </tr>\n",
       "    <tr>\n",
       "      <th>15</th>\n",
       "      <td>1730</td>\n",
       "      <td>1730</td>\n",
       "    </tr>\n",
       "  </tbody>\n",
       "</table>\n",
       "</div>"
      ],
      "text/plain": [
       "    Areas  ALL_Prices\n",
       "0    1200        1200\n",
       "1    1500        1500\n",
       "2    2650        2650\n",
       "3    2235        2235\n",
       "4    5785        5785\n",
       "5    6754        6754\n",
       "6    8750        8750\n",
       "7    3575        3575\n",
       "8    3455        3455\n",
       "9    2475        2475\n",
       "10   9500        9500\n",
       "11   6755        6755\n",
       "12   4350        4350\n",
       "13   3230        3230\n",
       "14   1900        1900\n",
       "15   1730        1730"
      ]
     },
     "execution_count": 80,
     "metadata": {},
     "output_type": "execute_result"
    }
   ],
   "source": [
    "data_Areas"
   ]
  }
 ],
 "metadata": {
  "kernelspec": {
   "display_name": "Python 3 (ipykernel)",
   "language": "python",
   "name": "python3"
  },
  "language_info": {
   "codemirror_mode": {
    "name": "ipython",
    "version": 3
   },
   "file_extension": ".py",
   "mimetype": "text/x-python",
   "name": "python",
   "nbconvert_exporter": "python",
   "pygments_lexer": "ipython3",
   "version": "3.9.7"
  }
 },
 "nbformat": 4,
 "nbformat_minor": 5
}
