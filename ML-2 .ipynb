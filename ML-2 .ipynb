{
 "cells": [
  {
   "cell_type": "markdown",
   "id": "65af230a",
   "metadata": {},
   "source": [
    "# Linear Regression with Multiplye variables a.k.a Multivariate Regression."
   ]
  },
  {
   "cell_type": "markdown",
   "id": "92f276ab",
   "metadata": {},
   "source": [
    "# Given data set for the Monroe township, \n",
    "# Find the home price of the houses having --- \n",
    "# 1. 3000 sqft area , 3 bedrooms , 40 years old.\n",
    "# 2. 2500 sqft area , 4 bedrooms , 5 years old."
   ]
  },
  {
   "cell_type": "code",
   "execution_count": 43,
   "id": "1e9a7279",
   "metadata": {},
   "outputs": [],
   "source": [
    "import numpy as np \n",
    "import pandas as pd\n",
    "import matplotlib.pyplot as plt\n",
    "from sklearn import linear_model"
   ]
  },
  {
   "cell_type": "code",
   "execution_count": 44,
   "id": "455ee2c1",
   "metadata": {},
   "outputs": [],
   "source": [
    "data_monroe = pd.read_csv(r\"C:\\Users\\DELL\\Desktop\\ML Youtube\\Monroe TW.csv\")"
   ]
  },
  {
   "cell_type": "code",
   "execution_count": 45,
   "id": "6f41e45c",
   "metadata": {},
   "outputs": [
    {
     "data": {
      "text/html": [
       "<div>\n",
       "<style scoped>\n",
       "    .dataframe tbody tr th:only-of-type {\n",
       "        vertical-align: middle;\n",
       "    }\n",
       "\n",
       "    .dataframe tbody tr th {\n",
       "        vertical-align: top;\n",
       "    }\n",
       "\n",
       "    .dataframe thead th {\n",
       "        text-align: right;\n",
       "    }\n",
       "</style>\n",
       "<table border=\"1\" class=\"dataframe\">\n",
       "  <thead>\n",
       "    <tr style=\"text-align: right;\">\n",
       "      <th></th>\n",
       "      <th>area</th>\n",
       "      <th>bedrooms</th>\n",
       "      <th>age</th>\n",
       "      <th>price</th>\n",
       "    </tr>\n",
       "  </thead>\n",
       "  <tbody>\n",
       "    <tr>\n",
       "      <th>0</th>\n",
       "      <td>2600</td>\n",
       "      <td>3.0</td>\n",
       "      <td>20</td>\n",
       "      <td>550000</td>\n",
       "    </tr>\n",
       "    <tr>\n",
       "      <th>1</th>\n",
       "      <td>3000</td>\n",
       "      <td>4.0</td>\n",
       "      <td>15</td>\n",
       "      <td>565000</td>\n",
       "    </tr>\n",
       "    <tr>\n",
       "      <th>2</th>\n",
       "      <td>3200</td>\n",
       "      <td>NaN</td>\n",
       "      <td>18</td>\n",
       "      <td>610000</td>\n",
       "    </tr>\n",
       "    <tr>\n",
       "      <th>3</th>\n",
       "      <td>3600</td>\n",
       "      <td>3.0</td>\n",
       "      <td>30</td>\n",
       "      <td>595000</td>\n",
       "    </tr>\n",
       "    <tr>\n",
       "      <th>4</th>\n",
       "      <td>4000</td>\n",
       "      <td>5.0</td>\n",
       "      <td>8</td>\n",
       "      <td>760000</td>\n",
       "    </tr>\n",
       "  </tbody>\n",
       "</table>\n",
       "</div>"
      ],
      "text/plain": [
       "   area  bedrooms  age   price\n",
       "0  2600       3.0   20  550000\n",
       "1  3000       4.0   15  565000\n",
       "2  3200       NaN   18  610000\n",
       "3  3600       3.0   30  595000\n",
       "4  4000       5.0    8  760000"
      ]
     },
     "execution_count": 45,
     "metadata": {},
     "output_type": "execute_result"
    }
   ],
   "source": [
    "data_monroe"
   ]
  },
  {
   "cell_type": "code",
   "execution_count": 46,
   "id": "562d68b4",
   "metadata": {},
   "outputs": [],
   "source": [
    "# linear equation formula\n",
    "# price = (m1 * area + m2 * bedrooms + m3 * age) + b\n",
    "# Price is dependent of three factors - area , bedrooms and age.\n",
    "# price is dependent variable.\n",
    "# area , bedrooms , age are independent variables. (These are called features).\n",
    "# m1,m2,m3 are called cofficients.\n",
    "# b is the intercept."
   ]
  },
  {
   "cell_type": "code",
   "execution_count": 47,
   "id": "c429506e",
   "metadata": {},
   "outputs": [],
   "source": [
    "# Generalised formula for multiple linear regression / Multivariate linear regression.\n",
    "# y = (m1*x1 + m2*x2 + m3*x3) + b"
   ]
  },
  {
   "cell_type": "code",
   "execution_count": 48,
   "id": "b175bd09",
   "metadata": {},
   "outputs": [],
   "source": [
    "# Topics covered\n",
    "# 1. Data processing - Handling NA values.\n",
    "# 2. Linear regression using multiple variables."
   ]
  },
  {
   "cell_type": "markdown",
   "id": "8c1ffd74",
   "metadata": {},
   "source": [
    "# Step - 1 - Data preprocessing."
   ]
  },
  {
   "cell_type": "code",
   "execution_count": 49,
   "id": "c5a76433",
   "metadata": {},
   "outputs": [
    {
     "data": {
      "text/html": [
       "<div>\n",
       "<style scoped>\n",
       "    .dataframe tbody tr th:only-of-type {\n",
       "        vertical-align: middle;\n",
       "    }\n",
       "\n",
       "    .dataframe tbody tr th {\n",
       "        vertical-align: top;\n",
       "    }\n",
       "\n",
       "    .dataframe thead th {\n",
       "        text-align: right;\n",
       "    }\n",
       "</style>\n",
       "<table border=\"1\" class=\"dataframe\">\n",
       "  <thead>\n",
       "    <tr style=\"text-align: right;\">\n",
       "      <th></th>\n",
       "      <th>area</th>\n",
       "      <th>bedrooms</th>\n",
       "      <th>age</th>\n",
       "      <th>price</th>\n",
       "    </tr>\n",
       "  </thead>\n",
       "  <tbody>\n",
       "    <tr>\n",
       "      <th>0</th>\n",
       "      <td>2600</td>\n",
       "      <td>3.0</td>\n",
       "      <td>20</td>\n",
       "      <td>550000</td>\n",
       "    </tr>\n",
       "    <tr>\n",
       "      <th>1</th>\n",
       "      <td>3000</td>\n",
       "      <td>4.0</td>\n",
       "      <td>15</td>\n",
       "      <td>565000</td>\n",
       "    </tr>\n",
       "    <tr>\n",
       "      <th>2</th>\n",
       "      <td>3200</td>\n",
       "      <td>NaN</td>\n",
       "      <td>18</td>\n",
       "      <td>610000</td>\n",
       "    </tr>\n",
       "    <tr>\n",
       "      <th>3</th>\n",
       "      <td>3600</td>\n",
       "      <td>3.0</td>\n",
       "      <td>30</td>\n",
       "      <td>595000</td>\n",
       "    </tr>\n",
       "    <tr>\n",
       "      <th>4</th>\n",
       "      <td>4000</td>\n",
       "      <td>5.0</td>\n",
       "      <td>8</td>\n",
       "      <td>760000</td>\n",
       "    </tr>\n",
       "  </tbody>\n",
       "</table>\n",
       "</div>"
      ],
      "text/plain": [
       "   area  bedrooms  age   price\n",
       "0  2600       3.0   20  550000\n",
       "1  3000       4.0   15  565000\n",
       "2  3200       NaN   18  610000\n",
       "3  3600       3.0   30  595000\n",
       "4  4000       5.0    8  760000"
      ]
     },
     "execution_count": 49,
     "metadata": {},
     "output_type": "execute_result"
    }
   ],
   "source": [
    "data_monroe"
   ]
  },
  {
   "cell_type": "code",
   "execution_count": 50,
   "id": "f20c00dd",
   "metadata": {},
   "outputs": [],
   "source": [
    "# There is a NaN value in the bedrooms column. So taking the median value of the bedrooms and placing it in the missing value."
   ]
  },
  {
   "cell_type": "code",
   "execution_count": 51,
   "id": "dcd162ba",
   "metadata": {},
   "outputs": [
    {
     "data": {
      "text/plain": [
       "3.5"
      ]
     },
     "execution_count": 51,
     "metadata": {},
     "output_type": "execute_result"
    }
   ],
   "source": [
    "data_monroe[\"bedrooms\"].median()"
   ]
  },
  {
   "cell_type": "code",
   "execution_count": 52,
   "id": "e58ade6c",
   "metadata": {},
   "outputs": [],
   "source": [
    "import math\n",
    "bedrooms_median = math.floor(data_monroe[\"bedrooms\"].median())"
   ]
  },
  {
   "cell_type": "code",
   "execution_count": 53,
   "id": "146f0c2e",
   "metadata": {},
   "outputs": [
    {
     "data": {
      "text/plain": [
       "3"
      ]
     },
     "execution_count": 53,
     "metadata": {},
     "output_type": "execute_result"
    }
   ],
   "source": [
    "bedrooms_median"
   ]
  },
  {
   "cell_type": "code",
   "execution_count": 54,
   "id": "75f85ee2",
   "metadata": {},
   "outputs": [],
   "source": [
    "data_monroe[\"bedrooms\"] = data_monroe[\"bedrooms\"].fillna(bedrooms_median)"
   ]
  },
  {
   "cell_type": "code",
   "execution_count": 55,
   "id": "09e53ebc",
   "metadata": {},
   "outputs": [
    {
     "data": {
      "text/html": [
       "<div>\n",
       "<style scoped>\n",
       "    .dataframe tbody tr th:only-of-type {\n",
       "        vertical-align: middle;\n",
       "    }\n",
       "\n",
       "    .dataframe tbody tr th {\n",
       "        vertical-align: top;\n",
       "    }\n",
       "\n",
       "    .dataframe thead th {\n",
       "        text-align: right;\n",
       "    }\n",
       "</style>\n",
       "<table border=\"1\" class=\"dataframe\">\n",
       "  <thead>\n",
       "    <tr style=\"text-align: right;\">\n",
       "      <th></th>\n",
       "      <th>area</th>\n",
       "      <th>bedrooms</th>\n",
       "      <th>age</th>\n",
       "      <th>price</th>\n",
       "    </tr>\n",
       "  </thead>\n",
       "  <tbody>\n",
       "    <tr>\n",
       "      <th>0</th>\n",
       "      <td>2600</td>\n",
       "      <td>3.0</td>\n",
       "      <td>20</td>\n",
       "      <td>550000</td>\n",
       "    </tr>\n",
       "    <tr>\n",
       "      <th>1</th>\n",
       "      <td>3000</td>\n",
       "      <td>4.0</td>\n",
       "      <td>15</td>\n",
       "      <td>565000</td>\n",
       "    </tr>\n",
       "    <tr>\n",
       "      <th>2</th>\n",
       "      <td>3200</td>\n",
       "      <td>3.0</td>\n",
       "      <td>18</td>\n",
       "      <td>610000</td>\n",
       "    </tr>\n",
       "    <tr>\n",
       "      <th>3</th>\n",
       "      <td>3600</td>\n",
       "      <td>3.0</td>\n",
       "      <td>30</td>\n",
       "      <td>595000</td>\n",
       "    </tr>\n",
       "    <tr>\n",
       "      <th>4</th>\n",
       "      <td>4000</td>\n",
       "      <td>5.0</td>\n",
       "      <td>8</td>\n",
       "      <td>760000</td>\n",
       "    </tr>\n",
       "  </tbody>\n",
       "</table>\n",
       "</div>"
      ],
      "text/plain": [
       "   area  bedrooms  age   price\n",
       "0  2600       3.0   20  550000\n",
       "1  3000       4.0   15  565000\n",
       "2  3200       3.0   18  610000\n",
       "3  3600       3.0   30  595000\n",
       "4  4000       5.0    8  760000"
      ]
     },
     "execution_count": 55,
     "metadata": {},
     "output_type": "execute_result"
    }
   ],
   "source": [
    "data_monroe"
   ]
  },
  {
   "cell_type": "markdown",
   "id": "178270e9",
   "metadata": {},
   "source": [
    "# Creating Linear Regression object."
   ]
  },
  {
   "cell_type": "code",
   "execution_count": 56,
   "id": "13441a63",
   "metadata": {},
   "outputs": [],
   "source": [
    "reg = linear_model.LinearRegression()"
   ]
  },
  {
   "cell_type": "code",
   "execution_count": 57,
   "id": "f821a200",
   "metadata": {},
   "outputs": [],
   "source": [
    "# Fitting the data ( Training the linear regression model for the available data set)."
   ]
  },
  {
   "cell_type": "code",
   "execution_count": 58,
   "id": "5142d0d5",
   "metadata": {},
   "outputs": [
    {
     "data": {
      "text/plain": [
       "LinearRegression()"
      ]
     },
     "execution_count": 58,
     "metadata": {},
     "output_type": "execute_result"
    }
   ],
   "source": [
    "reg.fit(data_monroe[[\"area\" , \"bedrooms\" , \"age\"]] , data_monroe[\"price\"])"
   ]
  },
  {
   "cell_type": "code",
   "execution_count": 59,
   "id": "5b4a4e5b",
   "metadata": {},
   "outputs": [
    {
     "data": {
      "text/plain": [
       "array([   137.25, -26025.  ,  -6825.  ])"
      ]
     },
     "execution_count": 59,
     "metadata": {},
     "output_type": "execute_result"
    }
   ],
   "source": [
    "reg.coef_"
   ]
  },
  {
   "cell_type": "code",
   "execution_count": 60,
   "id": "8fc22b94",
   "metadata": {},
   "outputs": [
    {
     "data": {
      "text/plain": [
       "383725.0"
      ]
     },
     "execution_count": 60,
     "metadata": {},
     "output_type": "execute_result"
    }
   ],
   "source": [
    "reg.intercept_"
   ]
  },
  {
   "cell_type": "markdown",
   "id": "d1b95105",
   "metadata": {},
   "source": [
    "# Predicting the prices for the following house properties."
   ]
  },
  {
   "cell_type": "markdown",
   "id": "59203c71",
   "metadata": {},
   "source": [
    "# 1. 3000 sqft area , 3 bedrooms , 40 years old."
   ]
  },
  {
   "cell_type": "code",
   "execution_count": 65,
   "id": "85bd976c",
   "metadata": {},
   "outputs": [
    {
     "data": {
      "text/plain": [
       "array([444400.])"
      ]
     },
     "execution_count": 65,
     "metadata": {},
     "output_type": "execute_result"
    }
   ],
   "source": [
    "reg.predict([[3000 , 3 , 40]])"
   ]
  },
  {
   "cell_type": "code",
   "execution_count": 66,
   "id": "f4d10d1a",
   "metadata": {},
   "outputs": [
    {
     "data": {
      "text/plain": [
       "444400.0"
      ]
     },
     "execution_count": 66,
     "metadata": {},
     "output_type": "execute_result"
    }
   ],
   "source": [
    "# y = (m1*x1 + m2*x2 + m3*x3) + b\n",
    "((137.25 * 3000) +  (-26025 * 3) + (-6825 * 40)) + 383725"
   ]
  },
  {
   "cell_type": "markdown",
   "id": "6ee9b1de",
   "metadata": {},
   "source": [
    "# 2. 2500 sqft area , 4 bedrooms , 5 years old."
   ]
  },
  {
   "cell_type": "code",
   "execution_count": 63,
   "id": "22bbc349",
   "metadata": {},
   "outputs": [
    {
     "data": {
      "text/plain": [
       "array([588625.])"
      ]
     },
     "execution_count": 63,
     "metadata": {},
     "output_type": "execute_result"
    }
   ],
   "source": [
    "reg.predict([[2500 , 4 , 5]])"
   ]
  },
  {
   "cell_type": "code",
   "execution_count": 64,
   "id": "aa0d9e0f",
   "metadata": {},
   "outputs": [
    {
     "data": {
      "text/plain": [
       "588625.0"
      ]
     },
     "execution_count": 64,
     "metadata": {},
     "output_type": "execute_result"
    }
   ],
   "source": [
    "# y = (m1*x1 + m2*x2 + m3*x3) + b\n",
    "((137.25 * 2500) +  (-26025 * 4) + (-6825 * 5)) + 383725"
   ]
  }
 ],
 "metadata": {
  "kernelspec": {
   "display_name": "Python 3 (ipykernel)",
   "language": "python",
   "name": "python3"
  },
  "language_info": {
   "codemirror_mode": {
    "name": "ipython",
    "version": 3
   },
   "file_extension": ".py",
   "mimetype": "text/x-python",
   "name": "python",
   "nbconvert_exporter": "python",
   "pygments_lexer": "ipython3",
   "version": "3.9.7"
  }
 },
 "nbformat": 4,
 "nbformat_minor": 5
}
